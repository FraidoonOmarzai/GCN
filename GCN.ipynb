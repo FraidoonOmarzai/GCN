{
  "nbformat": 4,
  "nbformat_minor": 0,
  "metadata": {
    "colab": {
      "name": "GCN.ipynb",
      "provenance": [],
      "collapsed_sections": [
        "4S0KazEIA1Zp",
        "2HXPvyGmyhqd"
      ],
      "toc_visible": true
    },
    "kernelspec": {
      "name": "python3",
      "display_name": "Python 3"
    },
    "language_info": {
      "name": "python"
    },
    "gpuClass": "standard"
  },
  "cells": [
    {
      "cell_type": "markdown",
      "source": [
        "\n",
        "<h1 align=\"center\">Graph Convolutional Network (GCN)</h1>\n",
        "\n"
      ],
      "metadata": {
        "id": "97fbAEwUx69p"
      }
    },
    {
      "cell_type": "markdown",
      "source": [
        "**GNN**: Graph Neural Networks (GNN) is a class of ANN for processing data that can be represented as graphs.\n",
        "\n",
        "**Graph**: collection of nodes that are connected by edges.\n",
        "\n",
        "**Types Of GNN**:\n",
        "  - Graph Convolutional Network(GCN):Is the solution to the limitation of Convolutional Neural Networks (CNN) as CNNs fail on graphs. Or, GCNs are the generalized version of CNN that can work on data with underlying non-regular structures.\n",
        "\n",
        "  - Graph Auto-encoder Network: Integration of two networks, an encoder that downsamples the input by transferring it through convolutional filters to provide a compact feature representation of the image, and a decoder that takes the encoder's interpretation as input and tries to reconstruct the input based on it. \n"
      ],
      "metadata": {
        "id": "6R1Z1cARyCLv"
      }
    },
    {
      "cell_type": "markdown",
      "source": [
        "##First Example"
      ],
      "metadata": {
        "id": "4S0KazEIA1Zp"
      }
    },
    {
      "cell_type": "markdown",
      "source": [
        "###Building Graph Convolutional Networks\n",
        "\n",
        "**Steps**:\n",
        "\n",
        "1. Initializing the Graph G\n",
        "2. Inserting Adjacency Matrix (A) to Forward Pass Equation\n",
        "3. Inserting Self-Loops and Normalizing A\n",
        "4. Adding Weights and Activation Function\n",
        "5. Plotting the Features Representations\n"
      ],
      "metadata": {
        "id": "tE_4Y_GIxc1e"
      }
    },
    {
      "cell_type": "markdown",
      "source": [
        "### Import The Required Libraries"
      ],
      "metadata": {
        "id": "fxX05HcRxlIu"
      }
    },
    {
      "cell_type": "code",
      "execution_count": 17,
      "metadata": {
        "id": "dfNNCRdyx57t"
      },
      "outputs": [],
      "source": [
        "import networkx as nx #Provides classes for graphs which allow multiple edges between any pair of nodes.\n",
        "\n",
        "import numpy as np\n",
        "import matplotlib.pyplot as plt\n",
        "from scipy.linalg import fractional_matrix_power"
      ]
    },
    {
      "cell_type": "markdown",
      "source": [
        "### Initialize the graph"
      ],
      "metadata": {
        "id": "2HXPvyGmyhqd"
      }
    },
    {
      "cell_type": "code",
      "source": [
        "G = nx.Graph(name=\"Graph\") #Initialize the graph\n",
        "\n",
        "\n",
        "#Create nodes\n",
        "for i in range(6): #Creating 6 nodes\n",
        "  G.add_node(i, name=i)\n",
        "\n",
        "\n",
        "#Define the edges\n",
        "edges = [(0,1),(0,2),(1,2),(0,3),(3,4),(3,5),(4,5)] #Total 7 edges\n",
        "G.add_edges_from(edges)\n",
        "\n",
        "\n",
        "print('Graph Info:\\n', nx.info(G)) #Display graph info\n",
        "print('\\nGraph Nodes: ', G.nodes.data()) #Inspect the node features\n",
        "\n",
        "\n",
        "# Plot the graph\n",
        "nx.draw(G, with_labels=True, font_weight='bold')\n",
        "plt.show()"
      ],
      "metadata": {
        "colab": {
          "base_uri": "https://localhost:8080/",
          "height": 0
        },
        "id": "UCNE9VZ1xaWt",
        "outputId": "64bea7ab-ff85-4380-d6d1-7eeb14b798c4"
      },
      "execution_count": 18,
      "outputs": [
        {
          "output_type": "stream",
          "name": "stdout",
          "text": [
            "Graph Info:\n",
            " Graph named 'Graph' with 6 nodes and 7 edges\n",
            "\n",
            "Graph Nodes:  [(0, {'name': 0}), (1, {'name': 1}), (2, {'name': 2}), (3, {'name': 3}), (4, {'name': 4}), (5, {'name': 5})]\n"
          ]
        },
        {
          "output_type": "display_data",
          "data": {
            "text/plain": [
              "<Figure size 432x288 with 1 Axes>"
            ],
            "image/png": "[encoded data removed]"
          },
          "metadata": {}
        }
      ]
    },
    {
      "cell_type": "markdown",
      "source": [
        "### Inserting Adjacency Matrix (A) to Forward Pass Equation\n",
        "- The insertion of Adjacency Matrix (A) in the forward pass equation of GCNs enable the model to learn the features of neighboring nodes."
      ],
      "metadata": {
        "id": "x1HDG7Mb1eaX"
      }
    },
    {
      "cell_type": "code",
      "source": [
        "#Get the Adjacency Matrix (A) and Node Features Matrix (X) as numpy array\n",
        "A = np.array(nx.attr_matrix(G, node_attr='name')[0])\n",
        "X = np.array(nx.attr_matrix(G, node_attr='name')[1])\n",
        "X = np.expand_dims(X,axis=1)\n",
        "\n",
        "print('Shape of A: ', A.shape)\n",
        "print('\\nShape of X: ', X.shape)\n",
        "print('\\nAdjacency Matrix (A):\\n', A)\n",
        "print('\\nNode Features Matrix (X):\\n', X)"
      ],
      "metadata": {
        "colab": {
          "base_uri": "https://localhost:8080/"
        },
        "id": "sim_3Xiazscy",
        "outputId": "03fb4ed3-24e0-4c88-9ffb-c261894f6426"
      },
      "execution_count": 19,
      "outputs": [
        {
          "output_type": "stream",
          "name": "stdout",
          "text": [
            "Shape of A:  (6, 6)\n",
            "\n",
            "Shape of X:  (6, 1)\n",
            "\n",
            "Adjacency Matrix (A):\n",
            " [[0. 1. 1. 1. 0. 0.]\n",
            " [1. 0. 1. 0. 0. 0.]\n",
            " [1. 1. 0. 0. 0. 0.]\n",
            " [1. 0. 0. 0. 1. 1.]\n",
            " [0. 0. 0. 1. 0. 1.]\n",
            " [0. 0. 0. 1. 1. 0.]]\n",
            "\n",
            "Node Features Matrix (X):\n",
            " [[0]\n",
            " [1]\n",
            " [2]\n",
            " [3]\n",
            " [4]\n",
            " [5]]\n"
          ]
        }
      ]
    },
    {
      "cell_type": "markdown",
      "source": [
        "**Now, let’s investigate how by inserting A into the forward pass equation adds to richer feature representation of the model.**"
      ],
      "metadata": {
        "id": "396wuDdW10a-"
      }
    },
    {
      "cell_type": "code",
      "source": [
        "#Dot product Adjacency Matrix (A) and Node Features (X)\n",
        "AX = np.dot(A,X)\n",
        "print(\"Dot product of A and X (AX):\\n\", AX)"
      ],
      "metadata": {
        "colab": {
          "base_uri": "https://localhost:8080/"
        },
        "id": "hJ4h3mnQ1vt3",
        "outputId": "29aa560c-a914-465e-df99-8e3839bd7099"
      },
      "execution_count": 20,
      "outputs": [
        {
          "output_type": "stream",
          "name": "stdout",
          "text": [
            "Dot product of A and X (AX):\n",
            " [[6.]\n",
            " [2.]\n",
            " [1.]\n",
            " [9.]\n",
            " [8.]\n",
            " [7.]]\n"
          ]
        }
      ]
    },
    {
      "cell_type": "markdown",
      "source": [
        "###Inserting Self-Loops and Normalizing A\n",
        "* To address this problem, we now add self-loops to each node of A. Adding self-loops is basically a mechanism to connect a node to itself.\n",
        "* Let’s call A with self-loops added as A_hat and recalculate AX, which is now the dot product of A_hat and X "
      ],
      "metadata": {
        "id": "8FN8ZWrN2NZN"
      }
    },
    {
      "cell_type": "code",
      "source": [
        "#Add Self Loops\n",
        "G_self_loops = G.copy()\n",
        "\n",
        "self_loops = []\n",
        "for i in range(G.number_of_nodes()):\n",
        "    self_loops.append((i,i))\n",
        "\n",
        "G_self_loops.add_edges_from(self_loops)\n",
        "\n",
        "#Check the edges of G_self_loops after adding the self loops\n",
        "print('Edges of G with self-loops:\\n', G_self_loops.edges)\n",
        "\n",
        "#Get the Adjacency Matrix (A) and Node Features Matrix (X) of added self-lopps graph\n",
        "A_hat = np.array(nx.attr_matrix(G_self_loops, node_attr='name')[0])\n",
        "print('Adjacency Matrix of added self-loops G (A_hat):\\n', A_hat)\n",
        "\n",
        "#Calculate the dot product of A_hat and X (AX)\n",
        "AX = np.dot(A_hat, X)\n",
        "print('AX:\\n', AX)"
      ],
      "metadata": {
        "colab": {
          "base_uri": "https://localhost:8080/"
        },
        "id": "9UjzzOVN17K2",
        "outputId": "79556206-6388-4b61-f8a8-f81331b5e230"
      },
      "execution_count": 21,
      "outputs": [
        {
          "output_type": "stream",
          "name": "stdout",
          "text": [
            "Edges of G with self-loops:\n",
            " [(0, 1), (0, 2), (0, 3), (0, 0), (1, 2), (1, 1), (2, 2), (3, 4), (3, 5), (3, 3), (4, 5), (4, 4), (5, 5)]\n",
            "Adjacency Matrix of added self-loops G (A_hat):\n",
            " [[1. 1. 1. 1. 0. 0.]\n",
            " [1. 1. 1. 0. 0. 0.]\n",
            " [1. 1. 1. 0. 0. 0.]\n",
            " [1. 0. 0. 1. 1. 1.]\n",
            " [0. 0. 0. 1. 1. 1.]\n",
            " [0. 0. 0. 1. 1. 1.]]\n",
            "AX:\n",
            " [[ 6.]\n",
            " [ 3.]\n",
            " [ 3.]\n",
            " [12.]\n",
            " [12.]\n",
            " [12.]]\n"
          ]
        }
      ]
    },
    {
      "cell_type": "markdown",
      "source": [
        "**we need to normalize the features to prevent numerical instabilities and vanishing/exploding gradients in order for the model to converge. In GCNs, we normalize our data by calculating the Degree Matrix (D) and performing dot product operation of the inverse of D with AX**"
      ],
      "metadata": {
        "id": "JySg-s6v3DYa"
      }
    },
    {
      "cell_type": "code",
      "source": [
        "\n",
        "#Get the Degree Matrix of the added self-loops graph\n",
        "Deg_Mat = G_self_loops.degree() #In graph terminology, the term “degree” refers to the number of edges a node is connected to.\n",
        "print('Degree Matrix of added self-loops G (D): ', Deg_Mat)\n",
        "\n",
        "#Convert the Degree Matrix to a N x N matrix where N is the number of nodes\n",
        "D = np.diag([deg for (n,deg) in list(Deg_Mat)])\n",
        "print('Degree Matrix of added self-loops G as numpy array (D):\\n', D)\n",
        "\n",
        "#Find the inverse of Degree Matrix (D)\n",
        "D_inv = np.linalg.inv(D)\n",
        "print('Inverse of D:\\n', D_inv)\n",
        "\n",
        "#Dot product of D and AX for normalization\n",
        "DAX = np.dot(D_inv,AX)\n",
        "print('DAX:\\n', DAX)"
      ],
      "metadata": {
        "colab": {
          "base_uri": "https://localhost:8080/"
        },
        "id": "_f7uLUMx22q6",
        "outputId": "60d075c4-73f6-4913-bd6e-a9243c54fe93"
      },
      "execution_count": 22,
      "outputs": [
        {
          "output_type": "stream",
          "name": "stdout",
          "text": [
            "Degree Matrix of added self-loops G (D):  [(0, 5), (1, 4), (2, 4), (3, 5), (4, 4), (5, 4)]\n",
            "Degree Matrix of added self-loops G as numpy array (D):\n",
            " [[5 0 0 0 0 0]\n",
            " [0 4 0 0 0 0]\n",
            " [0 0 4 0 0 0]\n",
            " [0 0 0 5 0 0]\n",
            " [0 0 0 0 4 0]\n",
            " [0 0 0 0 0 4]]\n",
            "Inverse of D:\n",
            " [[0.2  0.   0.   0.   0.   0.  ]\n",
            " [0.   0.25 0.   0.   0.   0.  ]\n",
            " [0.   0.   0.25 0.   0.   0.  ]\n",
            " [0.   0.   0.   0.2  0.   0.  ]\n",
            " [0.   0.   0.   0.   0.25 0.  ]\n",
            " [0.   0.   0.   0.   0.   0.25]]\n",
            "DAX:\n",
            " [[1.2 ]\n",
            " [0.75]\n",
            " [0.75]\n",
            " [2.4 ]\n",
            " [3.  ]\n",
            " [3.  ]]\n"
          ]
        }
      ]
    },
    {
      "cell_type": "markdown",
      "source": [
        "**In the paper, Kipf and Welling states that doing symmetric normalization will make dynamics more interesting, hence, the normalization equation is modified from:**\n",
        "\n",
        "$normalizing-term = D^{-1} A$\n",
        "\n",
        "To\n",
        "\n",
        "$normalizing-term = D^{-1/2} A D^{-1/2}$\n"
      ],
      "metadata": {
        "id": "7Xjn9uic34Yq"
      }
    },
    {
      "cell_type": "code",
      "source": [
        "#Symmetrically-normalization\n",
        "D_half_norm = fractional_matrix_power(D, -0.5)\n",
        "DADX = D_half_norm.dot(A_hat).dot(D_half_norm).dot(X)\n",
        "print('DADX:\\n', DADX)"
      ],
      "metadata": {
        "colab": {
          "base_uri": "https://localhost:8080/"
        },
        "id": "3xaEhXEw3RPu",
        "outputId": "da949ff0-dcc7-4246-b349-cfa7aa4c7cba"
      },
      "execution_count": 23,
      "outputs": [
        {
          "output_type": "stream",
          "name": "stdout",
          "text": [
            "DADX:\n",
            " [[1.27082039]\n",
            " [0.75      ]\n",
            " [0.75      ]\n",
            " [2.61246118]\n",
            " [2.92082039]\n",
            " [2.92082039]]\n"
          ]
        }
      ]
    },
    {
      "cell_type": "markdown",
      "source": [
        "###Adding Weights and Activation Function"
      ],
      "metadata": {
        "id": "MudYOiwc4baU"
      }
    },
    {
      "cell_type": "code",
      "source": [
        "#Initialize the weights\n",
        "np.random.seed(77777)\n",
        "n_h = 4 #number of neurons in the hidden layer\n",
        "n_y = 2 #number of neurons in the output layer\n",
        "W0 = np.random.randn(X.shape[1],n_h) * 0.01\n",
        "W1 = np.random.randn(n_h,n_y) * 0.01\n",
        "\n",
        "#Implement ReLu as activation function\n",
        "def relu(x):\n",
        "    return np.maximum(0,x)\n",
        "\n",
        "#Build GCN layer\n",
        "#In this function, we implement numpy to simplify\n",
        "def gcn(A,H,W):\n",
        "    I = np.identity(A.shape[0]) #create Identity Matrix of A\n",
        "    A_hat = A + I #add self-loop to A\n",
        "    D = np.diag(np.sum(A_hat, axis=0)) #create Degree Matrix of A\n",
        "    D_half_norm = fractional_matrix_power(D, -0.5) #calculate D to the power of -0.5\n",
        "    eq = D_half_norm.dot(A_hat).dot(D_half_norm).dot(H).dot(W)\n",
        "    return relu(eq)\n",
        "\n",
        "\n",
        "#Do forward propagation\n",
        "H1 = gcn(A,X,W0)\n",
        "H2 = gcn(A,H1,W1)\n",
        "print('Features Representation from GCN output:\\n', H2)"
      ],
      "metadata": {
        "colab": {
          "base_uri": "https://localhost:8080/"
        },
        "id": "QuUaBNcp35b2",
        "outputId": "746e2792-8d4d-47fe-cdec-a04150659d4f"
      },
      "execution_count": 24,
      "outputs": [
        {
          "output_type": "stream",
          "name": "stdout",
          "text": [
            "Features Representation from GCN output:\n",
            " [[0.00027758 0.        ]\n",
            " [0.00017298 0.        ]\n",
            " [0.00017298 0.        ]\n",
            " [0.00053017 0.        ]\n",
            " [0.00054097 0.        ]\n",
            " [0.00054097 0.        ]]\n"
          ]
        }
      ]
    },
    {
      "cell_type": "markdown",
      "source": [
        "**Done! just built first feed-forward GCN model!**"
      ],
      "metadata": {
        "id": "mgKhCFQh6a1-"
      }
    },
    {
      "cell_type": "markdown",
      "source": [
        "###Plotting the Features Representations"
      ],
      "metadata": {
        "id": "gCgFhriV5lFN"
      }
    },
    {
      "cell_type": "code",
      "source": [
        "def plot_features(H2):\n",
        "    #Plot the features representation\n",
        "    x = H2[:,0]\n",
        "    y = H2[:,1]\n",
        "\n",
        "    size = 1000\n",
        "\n",
        "    plt.scatter(x,y,size)\n",
        "    plt.xlim([np.min(x)*0.9, np.max(x)*1.1])\n",
        "    plt.ylim([-1, 1])\n",
        "    plt.xlabel('Feature Representation Dimension 0')\n",
        "    plt.ylabel('Feature Representation Dimension 1')\n",
        "    plt.title('Feature Representation')\n",
        "\n",
        "    for i,row in enumerate(H2):\n",
        "        str = \"{}\".format(i)\n",
        "        plt.annotate(str, (row[0],row[1]),fontsize=18, fontweight='bold')\n",
        "\n",
        "    plt.show()\n",
        "\n",
        "\n",
        "plot_features(H2)"
      ],
      "metadata": {
        "colab": {
          "base_uri": "https://localhost:8080/",
          "height": 0
        },
        "id": "xORjDo4a4uyE",
        "outputId": "76446bfc-c86e-4610-e999-c4a041f73eab"
      },
      "execution_count": 25,
      "outputs": [
        {
          "output_type": "display_data",
          "data": {
            "text/plain": [
              "<Figure size 432x288 with 1 Axes>"
            ],
            "image/png": "[encoded data removed]"
          },
          "metadata": {
            "needs_background": "light"
          }
        }
      ]
    },
    {
      "cell_type": "markdown",
      "source": [
        "##Cora dataset node classification with Graph Convolutional Network (GCN)\n",
        "- We will use **StellarGraph**: it is a Python library for machine learning on graphs and networks. Doc(https://stellargraph.readthedocs.io/en/stable/README.html)"
      ],
      "metadata": {
        "id": "HXGiaiwo7_dq"
      }
    },
    {
      "cell_type": "markdown",
      "source": [
        "**steps:**\n",
        "\n",
        "* Prepared the data using common data science libraries\n",
        "\n",
        "* Built a TensorFlow Keras model and data generator with the StellarGraph library\n",
        "\n",
        "* Trained and evaluated it using TensorFlow and other libraries"
      ],
      "metadata": {
        "id": "7u0q1L8-BWBh"
      }
    },
    {
      "cell_type": "markdown",
      "source": [
        "### Import libraries"
      ],
      "metadata": {
        "id": "lxw8dYN68Hec"
      }
    },
    {
      "cell_type": "code",
      "source": [
        "!pip install stellargraph"
      ],
      "metadata": {
        "id": "MGztwfEV87ME"
      },
      "execution_count": 26,
      "outputs": []
    },
    {
      "cell_type": "code",
      "source": [
        "import pandas as pd\n",
        "import os\n",
        "\n",
        "import stellargraph as sg\n",
        "from stellargraph.mapper import FullBatchNodeGenerator\n",
        "from stellargraph.layer import GCN\n",
        "\n",
        "from tensorflow.keras import layers, optimizers, losses, metrics, Model\n",
        "from sklearn import preprocessing, model_selection\n",
        "import matplotlib.pyplot as plt\n",
        "%matplotlib inline"
      ],
      "metadata": {
        "id": "6g7Jtuis7-c0"
      },
      "execution_count": 27,
      "outputs": []
    },
    {
      "cell_type": "markdown",
      "source": [
        "### Data Preparation\n",
        "**Got the codes from the documentation of sg library**"
      ],
      "metadata": {
        "id": "8R8t4BVY8KUL"
      }
    },
    {
      "cell_type": "code",
      "source": [
        "# load the dataset\n",
        "dataset = sg.datasets.Cora()\n",
        "G, node_subjects = dataset.load()\n",
        "print(G.info())"
      ],
      "metadata": {
        "colab": {
          "base_uri": "https://localhost:8080/"
        },
        "id": "gzLHBVy08MHt",
        "outputId": "af532d9e-9154-4353-fd9e-08bf67ed9bdf"
      },
      "execution_count": 28,
      "outputs": [
        {
          "output_type": "stream",
          "name": "stdout",
          "text": [
            "StellarGraph: Undirected multigraph\n",
            " Nodes: 2708, Edges: 5429\n",
            "\n",
            " Node types:\n",
            "  paper: [2708]\n",
            "    Features: float32 vector, length 1433\n",
            "    Edge types: paper-cites->paper\n",
            "\n",
            " Edge types:\n",
            "    paper-cites->paper: [5429]\n",
            "        Weights: all 1 (default)\n",
            "        Features: none\n"
          ]
        }
      ]
    },
    {
      "cell_type": "code",
      "source": [
        "node_subjects.value_counts().to_frame()"
      ],
      "metadata": {
        "colab": {
          "base_uri": "https://localhost:8080/",
          "height": 269
        },
        "id": "-uLX7KdK-K1z",
        "outputId": "4ed7eb3a-8ebd-4c72-a2bb-d12a7f31c3f5"
      },
      "execution_count": 29,
      "outputs": [
        {
          "output_type": "execute_result",
          "data": {
            "text/plain": [
              "                        subject\n",
              "Neural_Networks             818\n",
              "Probabilistic_Methods       426\n",
              "Genetic_Algorithms          418\n",
              "Theory                      351\n",
              "Case_Based                  298\n",
              "Reinforcement_Learning      217\n",
              "Rule_Learning               180"
            ],
            "text/html": [
              "\n",
              "  <div id=\"df-a736f9e9-ffbd-431c-883f-9a8c4796f3ab\">\n",
              "    <div class=\"colab-df-container\">\n",
              "      <div>\n",
              "<style scoped>\n",
              "    .dataframe tbody tr th:only-of-type {\n",
              "        vertical-align: middle;\n",
              "    }\n",
              "\n",
              "    .dataframe tbody tr th {\n",
              "        vertical-align: top;\n",
              "    }\n",
              "\n",
              "    .dataframe thead th {\n",
              "        text-align: right;\n",
              "    }\n",
              "</style>\n",
              "<table border=\"1\" class=\"dataframe\">\n",
              "  <thead>\n",
              "    <tr style=\"text-align: right;\">\n",
              "      <th></th>\n",
              "      <th>subject</th>\n",
              "    </tr>\n",
              "  </thead>\n",
              "  <tbody>\n",
              "    <tr>\n",
              "      <th>Neural_Networks</th>\n",
              "      <td>818</td>\n",
              "    </tr>\n",
              "    <tr>\n",
              "      <th>Probabilistic_Methods</th>\n",
              "      <td>426</td>\n",
              "    </tr>\n",
              "    <tr>\n",
              "      <th>Genetic_Algorithms</th>\n",
              "      <td>418</td>\n",
              "    </tr>\n",
              "    <tr>\n",
              "      <th>Theory</th>\n",
              "      <td>351</td>\n",
              "    </tr>\n",
              "    <tr>\n",
              "      <th>Case_Based</th>\n",
              "      <td>298</td>\n",
              "    </tr>\n",
              "    <tr>\n",
              "      <th>Reinforcement_Learning</th>\n",
              "      <td>217</td>\n",
              "    </tr>\n",
              "    <tr>\n",
              "      <th>Rule_Learning</th>\n",
              "      <td>180</td>\n",
              "    </tr>\n",
              "  </tbody>\n",
              "</table>\n",
              "</div>\n",
              "      <button class=\"colab-df-convert\" onclick=\"convertToInteractive('df-a736f9e9-ffbd-431c-883f-9a8c4796f3ab')\"\n",
              "              title=\"Convert this dataframe to an interactive table.\"\n",
              "              style=\"display:none;\">\n",
              "        \n",
              "  <svg xmlns=\"http://www.w3.org/2000/svg\" height=\"24px\"viewBox=\"0 0 24 24\"\n",
              "       width=\"24px\">\n",
              "    <path d=\"M0 0h24v24H0V0z\" fill=\"none\"/>\n",
              "    <path d=\"M18.56 5.44l.94 2.06.94-2.06 2.06-.94-2.06-.94-.94-2.06-.94 2.06-2.06.94zm-11 1L8.5 8.5l.94-2.06 2.06-.94-2.06-.94L8.5 2.5l-.94 2.06-2.06.94zm10 10l.94 2.06.94-2.06 2.06-.94-2.06-.94-.94-2.06-.94 2.06-2.06.94z\"/><path d=\"M17.41 7.96l-1.37-1.37c-.4-.4-.92-.59-1.43-.59-.52 0-1.04.2-1.43.59L10.3 9.45l-7.72 7.72c-.78.78-.78 2.05 0 2.83L4 21.41c.39.39.9.59 1.41.59.51 0 1.02-.2 1.41-.59l7.78-7.78 2.81-2.81c.8-.78.8-2.07 0-2.86zM5.41 20L4 18.59l7.72-7.72 1.47 1.35L5.41 20z\"/>\n",
              "  </svg>\n",
              "      </button>\n",
              "      \n",
              "  <style>\n",
              "    .colab-df-container {\n",
              "      display:flex;\n",
              "      flex-wrap:wrap;\n",
              "      gap: 12px;\n",
              "    }\n",
              "\n",
              "    .colab-df-convert {\n",
              "      background-color: #E8F0FE;\n",
              "      border: none;\n",
              "      border-radius: 50%;\n",
              "      cursor: pointer;\n",
              "      display: none;\n",
              "      fill: #1967D2;\n",
              "      height: 32px;\n",
              "      padding: 0 0 0 0;\n",
              "      width: 32px;\n",
              "    }\n",
              "\n",
              "    .colab-df-convert:hover {\n",
              "      background-color: #E2EBFA;\n",
              "      box-shadow: 0px 1px 2px rgba(60, 64, 67, 0.3), 0px 1px 3px 1px rgba(60, 64, 67, 0.15);\n",
              "      fill: #174EA6;\n",
              "    }\n",
              "\n",
              "    [theme=dark] .colab-df-convert {\n",
              "      background-color: #3B4455;\n",
              "      fill: #D2E3FC;\n",
              "    }\n",
              "\n",
              "    [theme=dark] .colab-df-convert:hover {\n",
              "      background-color: #434B5C;\n",
              "      box-shadow: 0px 1px 3px 1px rgba(0, 0, 0, 0.15);\n",
              "      filter: drop-shadow(0px 1px 2px rgba(0, 0, 0, 0.3));\n",
              "      fill: #FFFFFF;\n",
              "    }\n",
              "  </style>\n",
              "\n",
              "      <script>\n",
              "        const buttonEl =\n",
              "          document.querySelector('#df-a736f9e9-ffbd-431c-883f-9a8c4796f3ab button.colab-df-convert');\n",
              "        buttonEl.style.display =\n",
              "          google.colab.kernel.accessAllowed ? 'block' : 'none';\n",
              "\n",
              "        async function convertToInteractive(key) {\n",
              "          const element = document.querySelector('#df-a736f9e9-ffbd-431c-883f-9a8c4796f3ab');\n",
              "          const dataTable =\n",
              "            await google.colab.kernel.invokeFunction('convertToInteractive',\n",
              "                                                     [key], {});\n",
              "          if (!dataTable) return;\n",
              "\n",
              "          const docLinkHtml = 'Like what you see? Visit the ' +\n",
              "            '<a target=\"_blank\" href=https://colab.research.google.com/notebooks/data_table.ipynb>data table notebook</a>'\n",
              "            + ' to learn more about interactive tables.';\n",
              "          element.innerHTML = '';\n",
              "          dataTable['output_type'] = 'display_data';\n",
              "          await google.colab.output.renderOutput(dataTable, element);\n",
              "          const docLink = document.createElement('div');\n",
              "          docLink.innerHTML = docLinkHtml;\n",
              "          element.appendChild(docLink);\n",
              "        }\n",
              "      </script>\n",
              "    </div>\n",
              "  </div>\n",
              "  "
            ]
          },
          "metadata": {},
          "execution_count": 29
        }
      ]
    },
    {
      "cell_type": "code",
      "source": [
        "# spliting the data\n",
        "train_subjects, test_subjects = model_selection.train_test_split( node_subjects,\n",
        "                                                                  train_size=140, \n",
        "                                                                  test_size=None, \n",
        "                                                                  stratify=node_subjects)\n",
        "val_subjects, test_subjects = model_selection.train_test_split( test_subjects, \n",
        "                                                                train_size=500, \n",
        "                                                                test_size=None, \n",
        "                                                                stratify=test_subjects)"
      ],
      "metadata": {
        "id": "CszJgZNn84QN"
      },
      "execution_count": 30,
      "outputs": []
    },
    {
      "cell_type": "code",
      "source": [
        "train_subjects.value_counts().to_frame()"
      ],
      "metadata": {
        "colab": {
          "base_uri": "https://localhost:8080/",
          "height": 269
        },
        "id": "GCGNA2zM92-_",
        "outputId": "e210c14c-0e35-45c9-d550-8b8de8cbfb63"
      },
      "execution_count": 31,
      "outputs": [
        {
          "output_type": "execute_result",
          "data": {
            "text/plain": [
              "                        subject\n",
              "Neural_Networks              42\n",
              "Probabilistic_Methods        22\n",
              "Genetic_Algorithms           22\n",
              "Theory                       18\n",
              "Case_Based                   16\n",
              "Reinforcement_Learning       11\n",
              "Rule_Learning                 9"
            ],
            "text/html": [
              "\n",
              "  <div id=\"df-0d6a8455-7d9e-4213-8e55-6d84b157fe26\">\n",
              "    <div class=\"colab-df-container\">\n",
              "      <div>\n",
              "<style scoped>\n",
              "    .dataframe tbody tr th:only-of-type {\n",
              "        vertical-align: middle;\n",
              "    }\n",
              "\n",
              "    .dataframe tbody tr th {\n",
              "        vertical-align: top;\n",
              "    }\n",
              "\n",
              "    .dataframe thead th {\n",
              "        text-align: right;\n",
              "    }\n",
              "</style>\n",
              "<table border=\"1\" class=\"dataframe\">\n",
              "  <thead>\n",
              "    <tr style=\"text-align: right;\">\n",
              "      <th></th>\n",
              "      <th>subject</th>\n",
              "    </tr>\n",
              "  </thead>\n",
              "  <tbody>\n",
              "    <tr>\n",
              "      <th>Neural_Networks</th>\n",
              "      <td>42</td>\n",
              "    </tr>\n",
              "    <tr>\n",
              "      <th>Probabilistic_Methods</th>\n",
              "      <td>22</td>\n",
              "    </tr>\n",
              "    <tr>\n",
              "      <th>Genetic_Algorithms</th>\n",
              "      <td>22</td>\n",
              "    </tr>\n",
              "    <tr>\n",
              "      <th>Theory</th>\n",
              "      <td>18</td>\n",
              "    </tr>\n",
              "    <tr>\n",
              "      <th>Case_Based</th>\n",
              "      <td>16</td>\n",
              "    </tr>\n",
              "    <tr>\n",
              "      <th>Reinforcement_Learning</th>\n",
              "      <td>11</td>\n",
              "    </tr>\n",
              "    <tr>\n",
              "      <th>Rule_Learning</th>\n",
              "      <td>9</td>\n",
              "    </tr>\n",
              "  </tbody>\n",
              "</table>\n",
              "</div>\n",
              "      <button class=\"colab-df-convert\" onclick=\"convertToInteractive('df-0d6a8455-7d9e-4213-8e55-6d84b157fe26')\"\n",
              "              title=\"Convert this dataframe to an interactive table.\"\n",
              "              style=\"display:none;\">\n",
              "        \n",
              "  <svg xmlns=\"http://www.w3.org/2000/svg\" height=\"24px\"viewBox=\"0 0 24 24\"\n",
              "       width=\"24px\">\n",
              "    <path d=\"M0 0h24v24H0V0z\" fill=\"none\"/>\n",
              "    <path d=\"M18.56 5.44l.94 2.06.94-2.06 2.06-.94-2.06-.94-.94-2.06-.94 2.06-2.06.94zm-11 1L8.5 8.5l.94-2.06 2.06-.94-2.06-.94L8.5 2.5l-.94 2.06-2.06.94zm10 10l.94 2.06.94-2.06 2.06-.94-2.06-.94-.94-2.06-.94 2.06-2.06.94z\"/><path d=\"M17.41 7.96l-1.37-1.37c-.4-.4-.92-.59-1.43-.59-.52 0-1.04.2-1.43.59L10.3 9.45l-7.72 7.72c-.78.78-.78 2.05 0 2.83L4 21.41c.39.39.9.59 1.41.59.51 0 1.02-.2 1.41-.59l7.78-7.78 2.81-2.81c.8-.78.8-2.07 0-2.86zM5.41 20L4 18.59l7.72-7.72 1.47 1.35L5.41 20z\"/>\n",
              "  </svg>\n",
              "      </button>\n",
              "      \n",
              "  <style>\n",
              "    .colab-df-container {\n",
              "      display:flex;\n",
              "      flex-wrap:wrap;\n",
              "      gap: 12px;\n",
              "    }\n",
              "\n",
              "    .colab-df-convert {\n",
              "      background-color: #E8F0FE;\n",
              "      border: none;\n",
              "      border-radius: 50%;\n",
              "      cursor: pointer;\n",
              "      display: none;\n",
              "      fill: #1967D2;\n",
              "      height: 32px;\n",
              "      padding: 0 0 0 0;\n",
              "      width: 32px;\n",
              "    }\n",
              "\n",
              "    .colab-df-convert:hover {\n",
              "      background-color: #E2EBFA;\n",
              "      box-shadow: 0px 1px 2px rgba(60, 64, 67, 0.3), 0px 1px 3px 1px rgba(60, 64, 67, 0.15);\n",
              "      fill: #174EA6;\n",
              "    }\n",
              "\n",
              "    [theme=dark] .colab-df-convert {\n",
              "      background-color: #3B4455;\n",
              "      fill: #D2E3FC;\n",
              "    }\n",
              "\n",
              "    [theme=dark] .colab-df-convert:hover {\n",
              "      background-color: #434B5C;\n",
              "      box-shadow: 0px 1px 3px 1px rgba(0, 0, 0, 0.15);\n",
              "      filter: drop-shadow(0px 1px 2px rgba(0, 0, 0, 0.3));\n",
              "      fill: #FFFFFF;\n",
              "    }\n",
              "  </style>\n",
              "\n",
              "      <script>\n",
              "        const buttonEl =\n",
              "          document.querySelector('#df-0d6a8455-7d9e-4213-8e55-6d84b157fe26 button.colab-df-convert');\n",
              "        buttonEl.style.display =\n",
              "          google.colab.kernel.accessAllowed ? 'block' : 'none';\n",
              "\n",
              "        async function convertToInteractive(key) {\n",
              "          const element = document.querySelector('#df-0d6a8455-7d9e-4213-8e55-6d84b157fe26');\n",
              "          const dataTable =\n",
              "            await google.colab.kernel.invokeFunction('convertToInteractive',\n",
              "                                                     [key], {});\n",
              "          if (!dataTable) return;\n",
              "\n",
              "          const docLinkHtml = 'Like what you see? Visit the ' +\n",
              "            '<a target=\"_blank\" href=https://colab.research.google.com/notebooks/data_table.ipynb>data table notebook</a>'\n",
              "            + ' to learn more about interactive tables.';\n",
              "          element.innerHTML = '';\n",
              "          dataTable['output_type'] = 'display_data';\n",
              "          await google.colab.output.renderOutput(dataTable, element);\n",
              "          const docLink = document.createElement('div');\n",
              "          docLink.innerHTML = docLinkHtml;\n",
              "          element.appendChild(docLink);\n",
              "        }\n",
              "      </script>\n",
              "    </div>\n",
              "  </div>\n",
              "  "
            ]
          },
          "metadata": {},
          "execution_count": 31
        }
      ]
    },
    {
      "cell_type": "code",
      "source": [
        "# Converting to numeric arrays\n",
        "target_encoding = preprocessing.LabelBinarizer()\n",
        "\n",
        "train_targets = target_encoding.fit_transform(train_subjects)\n",
        "val_targets = target_encoding.transform(val_subjects)\n",
        "test_targets = target_encoding.transform(test_subjects)"
      ],
      "metadata": {
        "id": "rLlfNbS1-OyW"
      },
      "execution_count": 32,
      "outputs": []
    },
    {
      "cell_type": "markdown",
      "source": [
        "###Creating the GCN layers"
      ],
      "metadata": {
        "id": "9r1j2yJJAZFW"
      }
    },
    {
      "cell_type": "code",
      "source": [
        "generator = FullBatchNodeGenerator(G, method=\"gcn\")"
      ],
      "metadata": {
        "colab": {
          "base_uri": "https://localhost:8080/"
        },
        "id": "GW0AC1Bx-jKC",
        "outputId": "fe0e7611-017f-4355-d571-cff202c0b8af"
      },
      "execution_count": 33,
      "outputs": [
        {
          "output_type": "stream",
          "name": "stdout",
          "text": [
            "Using GCN (local pooling) filters...\n"
          ]
        }
      ]
    },
    {
      "cell_type": "code",
      "source": [
        "train_gen = generator.flow(train_subjects.index, train_targets)"
      ],
      "metadata": {
        "id": "6qhbXScSAfaG"
      },
      "execution_count": 34,
      "outputs": []
    },
    {
      "cell_type": "code",
      "source": [
        "gcn = GCN(layer_sizes=[16, 16], #the number of hidden GCN layers and their sizes\n",
        "          activations=[\"relu\", \"relu\"], \n",
        "          generator=generator, \n",
        "          dropout=0.5)"
      ],
      "metadata": {
        "id": "fLxcAKa_Aib0"
      },
      "execution_count": 35,
      "outputs": []
    },
    {
      "cell_type": "markdown",
      "source": [
        "**To create a Keras model we now expose the input and output tensors of the GCN model for node prediction, via the GCN.in_out_tensors method**"
      ],
      "metadata": {
        "id": "xGKFTJCnGDim"
      }
    },
    {
      "cell_type": "code",
      "source": [
        "x_inp, x_out = gcn.in_out_tensors()\n",
        "\n",
        "x_out"
      ],
      "metadata": {
        "colab": {
          "base_uri": "https://localhost:8080/"
        },
        "id": "wXF8vxSmAl2k",
        "outputId": "c2831b07-d2c3-4dae-ecc3-2f269a965f19"
      },
      "execution_count": 37,
      "outputs": [
        {
          "output_type": "execute_result",
          "data": {
            "text/plain": [
              "<KerasTensor: shape=(1, None, 16) dtype=float32 (created by layer 'gather_indices_1')>"
            ]
          },
          "metadata": {},
          "execution_count": 37
        }
      ]
    },
    {
      "cell_type": "code",
      "source": [
        "predictions = layers.Dense(units=train_targets.shape[1], activation=\"softmax\")(x_out)\n"
      ],
      "metadata": {
        "id": "xHQWvG--Apuf"
      },
      "execution_count": 38,
      "outputs": []
    },
    {
      "cell_type": "markdown",
      "source": [
        "### Training and evaluating"
      ],
      "metadata": {
        "id": "hwZnJSkEByWK"
      }
    },
    {
      "cell_type": "code",
      "source": [
        "model = Model(inputs=x_inp, outputs=predictions)\n",
        "\n",
        "model.compile(optimizer=optimizers.Adam(lr=0.01),\n",
        "              loss=losses.categorical_crossentropy,\n",
        "              metrics=[\"acc\"])"
      ],
      "metadata": {
        "id": "b5aiiT2OAr9v",
        "colab": {
          "base_uri": "https://localhost:8080/"
        },
        "outputId": "e6096e1a-cd2a-48bd-8e48-dc96e1175192"
      },
      "execution_count": 39,
      "outputs": [
        {
          "output_type": "stream",
          "name": "stderr",
          "text": [
            "/usr/local/lib/python3.7/dist-packages/keras/optimizer_v2/adam.py:105: UserWarning: The `lr` argument is deprecated, use `learning_rate` instead.\n",
            "  super(Adam, self).__init__(name, **kwargs)\n"
          ]
        }
      ]
    },
    {
      "cell_type": "code",
      "source": [
        "val_gen = generator.flow(val_subjects.index, val_targets)\n"
      ],
      "metadata": {
        "id": "SHaTQUztCAlv"
      },
      "execution_count": 40,
      "outputs": []
    },
    {
      "cell_type": "code",
      "source": [
        "from tensorflow.keras.callbacks import EarlyStopping\n",
        "\n",
        "es_callback = EarlyStopping(monitor=\"val_acc\", patience=50, restore_best_weights=True)"
      ],
      "metadata": {
        "id": "s2E51GrACCp8"
      },
      "execution_count": 41,
      "outputs": []
    },
    {
      "cell_type": "code",
      "source": [
        "history = model.fit(train_gen,\n",
        "                    epochs=200,\n",
        "                    validation_data=val_gen,\n",
        "                    shuffle=False,  # this should be False, since shuffling data means shuffling the whole graph\n",
        "                    callbacks=[es_callback])"
      ],
      "metadata": {
        "colab": {
          "base_uri": "https://localhost:8080/"
        },
        "id": "zSPpNuFYCG21",
        "outputId": "077e294a-a92e-4510-ab6a-117d417a0e4d"
      },
      "execution_count": 42,
      "outputs": [
        {
          "metadata": {
            "tags": null
          },
          "name": "stdout",
          "output_type": "stream",
          "text": [
            "Epoch 1/200\n",
            "1/1 [==============================] - 3s 3s/step - loss: 1.9630 - acc: 0.1214 - val_loss: 1.9095 - val_acc: 0.4460\n",
            "Epoch 2/200\n",
            "1/1 [==============================] - 0s 257ms/step - loss: 1.9080 - acc: 0.3786 - val_loss: 1.8685 - val_acc: 0.3880\n",
            "Epoch 3/200\n",
            "1/1 [==============================] - 0s 234ms/step - loss: 1.8507 - acc: 0.5143 - val_loss: 1.8133 - val_acc: 0.3920\n",
            "Epoch 4/200\n",
            "1/1 [==============================] - 0s 324ms/step - loss: 1.7653 - acc: 0.5643 - val_loss: 1.7482 - val_acc: 0.4380\n",
            "Epoch 5/200\n",
            "1/1 [==============================] - 0s 284ms/step - loss: 1.7137 - acc: 0.5214 - val_loss: 1.6771 - val_acc: 0.4920\n",
            "Epoch 6/200\n",
            "1/1 [==============================] - 0s 486ms/step - loss: 1.6195 - acc: 0.5929 - val_loss: 1.6049 - val_acc: 0.5540\n",
            "Epoch 7/200\n",
            "1/1 [==============================] - 0s 429ms/step - loss: 1.5107 - acc: 0.6429 - val_loss: 1.5293 - val_acc: 0.5960\n",
            "Epoch 8/200\n",
            "1/1 [==============================] - 0s 467ms/step - loss: 1.4084 - acc: 0.6857 - val_loss: 1.4495 - val_acc: 0.6100\n",
            "Epoch 9/200\n",
            "1/1 [==============================] - 0s 369ms/step - loss: 1.2906 - acc: 0.7071 - val_loss: 1.3681 - val_acc: 0.6440\n",
            "Epoch 10/200\n",
            "1/1 [==============================] - 0s 265ms/step - loss: 1.1790 - acc: 0.7429 - val_loss: 1.2843 - val_acc: 0.6620\n",
            "Epoch 11/200\n",
            "1/1 [==============================] - 0s 221ms/step - loss: 1.0983 - acc: 0.7429 - val_loss: 1.1984 - val_acc: 0.6860\n",
            "Epoch 12/200\n",
            "1/1 [==============================] - 0s 243ms/step - loss: 0.9850 - acc: 0.7500 - val_loss: 1.1172 - val_acc: 0.7100\n",
            "Epoch 13/200\n",
            "1/1 [==============================] - 0s 217ms/step - loss: 0.9083 - acc: 0.7500 - val_loss: 1.0435 - val_acc: 0.7160\n",
            "Epoch 14/200\n",
            "1/1 [==============================] - 0s 221ms/step - loss: 0.8623 - acc: 0.7643 - val_loss: 0.9785 - val_acc: 0.7200\n",
            "Epoch 15/200\n",
            "1/1 [==============================] - 0s 237ms/step - loss: 0.7345 - acc: 0.8214 - val_loss: 0.9235 - val_acc: 0.7200\n",
            "Epoch 16/200\n",
            "1/1 [==============================] - 0s 229ms/step - loss: 0.7270 - acc: 0.7786 - val_loss: 0.8779 - val_acc: 0.7300\n",
            "Epoch 17/200\n",
            "1/1 [==============================] - 0s 263ms/step - loss: 0.6264 - acc: 0.8286 - val_loss: 0.8371 - val_acc: 0.7360\n",
            "Epoch 18/200\n",
            "1/1 [==============================] - 0s 237ms/step - loss: 0.5456 - acc: 0.8071 - val_loss: 0.7995 - val_acc: 0.7400\n",
            "Epoch 19/200\n",
            "1/1 [==============================] - 0s 207ms/step - loss: 0.5235 - acc: 0.8286 - val_loss: 0.7657 - val_acc: 0.7420\n",
            "Epoch 20/200\n",
            "1/1 [==============================] - 0s 231ms/step - loss: 0.4935 - acc: 0.8286 - val_loss: 0.7372 - val_acc: 0.7520\n",
            "Epoch 21/200\n",
            "1/1 [==============================] - 0s 219ms/step - loss: 0.4520 - acc: 0.8714 - val_loss: 0.7177 - val_acc: 0.7840\n",
            "Epoch 22/200\n",
            "1/1 [==============================] - 0s 242ms/step - loss: 0.3617 - acc: 0.9143 - val_loss: 0.6998 - val_acc: 0.7960\n",
            "Epoch 23/200\n",
            "1/1 [==============================] - 0s 266ms/step - loss: 0.3455 - acc: 0.9143 - val_loss: 0.6858 - val_acc: 0.8000\n",
            "Epoch 24/200\n",
            "1/1 [==============================] - 0s 252ms/step - loss: 0.3143 - acc: 0.9286 - val_loss: 0.6779 - val_acc: 0.8100\n",
            "Epoch 25/200\n",
            "1/1 [==============================] - 0s 261ms/step - loss: 0.2999 - acc: 0.9286 - val_loss: 0.6765 - val_acc: 0.8080\n",
            "Epoch 26/200\n",
            "1/1 [==============================] - 0s 233ms/step - loss: 0.3071 - acc: 0.9357 - val_loss: 0.6824 - val_acc: 0.8100\n",
            "Epoch 27/200\n",
            "1/1 [==============================] - 0s 247ms/step - loss: 0.2547 - acc: 0.9429 - val_loss: 0.6863 - val_acc: 0.8100\n",
            "Epoch 28/200\n",
            "1/1 [==============================] - 0s 250ms/step - loss: 0.2194 - acc: 0.9714 - val_loss: 0.6868 - val_acc: 0.8060\n",
            "Epoch 29/200\n",
            "1/1 [==============================] - 0s 220ms/step - loss: 0.2069 - acc: 0.9500 - val_loss: 0.6864 - val_acc: 0.8120\n",
            "Epoch 30/200\n",
            "1/1 [==============================] - 0s 208ms/step - loss: 0.2162 - acc: 0.9429 - val_loss: 0.6850 - val_acc: 0.8140\n",
            "Epoch 31/200\n",
            "1/1 [==============================] - 0s 230ms/step - loss: 0.2380 - acc: 0.9286 - val_loss: 0.6906 - val_acc: 0.8120\n",
            "Epoch 32/200\n",
            "1/1 [==============================] - 0s 222ms/step - loss: 0.1655 - acc: 0.9500 - val_loss: 0.6996 - val_acc: 0.8080\n",
            "Epoch 33/200\n",
            "1/1 [==============================] - 0s 242ms/step - loss: 0.2118 - acc: 0.9429 - val_loss: 0.7124 - val_acc: 0.8060\n",
            "Epoch 34/200\n",
            "1/1 [==============================] - 0s 244ms/step - loss: 0.1562 - acc: 0.9500 - val_loss: 0.7280 - val_acc: 0.7960\n",
            "Epoch 35/200\n",
            "1/1 [==============================] - 0s 221ms/step - loss: 0.1625 - acc: 0.9571 - val_loss: 0.7427 - val_acc: 0.8000\n",
            "Epoch 36/200\n",
            "1/1 [==============================] - 0s 222ms/step - loss: 0.1630 - acc: 0.9500 - val_loss: 0.7529 - val_acc: 0.7960\n",
            "Epoch 37/200\n",
            "1/1 [==============================] - 0s 216ms/step - loss: 0.0922 - acc: 0.9786 - val_loss: 0.7633 - val_acc: 0.7960\n",
            "Epoch 38/200\n",
            "1/1 [==============================] - 0s 239ms/step - loss: 0.1118 - acc: 0.9786 - val_loss: 0.7728 - val_acc: 0.7920\n",
            "Epoch 39/200\n",
            "1/1 [==============================] - 0s 248ms/step - loss: 0.1672 - acc: 0.9357 - val_loss: 0.7774 - val_acc: 0.8000\n",
            "Epoch 40/200\n",
            "1/1 [==============================] - 0s 216ms/step - loss: 0.1122 - acc: 0.9571 - val_loss: 0.7830 - val_acc: 0.8020\n",
            "Epoch 41/200\n",
            "1/1 [==============================] - 0s 218ms/step - loss: 0.0932 - acc: 0.9857 - val_loss: 0.7909 - val_acc: 0.8040\n",
            "Epoch 42/200\n",
            "1/1 [==============================] - 0s 235ms/step - loss: 0.1121 - acc: 0.9714 - val_loss: 0.8000 - val_acc: 0.8080\n",
            "Epoch 43/200\n",
            "1/1 [==============================] - 0s 218ms/step - loss: 0.1144 - acc: 0.9786 - val_loss: 0.8103 - val_acc: 0.8080\n",
            "Epoch 44/200\n",
            "1/1 [==============================] - 0s 194ms/step - loss: 0.1326 - acc: 0.9500 - val_loss: 0.8212 - val_acc: 0.8080\n",
            "Epoch 45/200\n",
            "1/1 [==============================] - 0s 264ms/step - loss: 0.0841 - acc: 0.9643 - val_loss: 0.8311 - val_acc: 0.8060\n",
            "Epoch 46/200\n",
            "1/1 [==============================] - 0s 235ms/step - loss: 0.1285 - acc: 0.9571 - val_loss: 0.8362 - val_acc: 0.8040\n",
            "Epoch 47/200\n",
            "1/1 [==============================] - 0s 216ms/step - loss: 0.0902 - acc: 0.9786 - val_loss: 0.8430 - val_acc: 0.8040\n",
            "Epoch 48/200\n",
            "1/1 [==============================] - 0s 237ms/step - loss: 0.0558 - acc: 0.9857 - val_loss: 0.8502 - val_acc: 0.8000\n",
            "Epoch 49/200\n",
            "1/1 [==============================] - 0s 234ms/step - loss: 0.0685 - acc: 0.9857 - val_loss: 0.8604 - val_acc: 0.8000\n",
            "Epoch 50/200\n",
            "1/1 [==============================] - 0s 228ms/step - loss: 0.0922 - acc: 0.9643 - val_loss: 0.8743 - val_acc: 0.7960\n",
            "Epoch 51/200\n",
            "1/1 [==============================] - 0s 188ms/step - loss: 0.0831 - acc: 0.9714 - val_loss: 0.8963 - val_acc: 0.7900\n",
            "Epoch 52/200\n",
            "1/1 [==============================] - 0s 232ms/step - loss: 0.0733 - acc: 0.9857 - val_loss: 0.9232 - val_acc: 0.7800\n",
            "Epoch 53/200\n",
            "1/1 [==============================] - 0s 232ms/step - loss: 0.0526 - acc: 1.0000 - val_loss: 0.9473 - val_acc: 0.7820\n",
            "Epoch 54/200\n",
            "1/1 [==============================] - 0s 202ms/step - loss: 0.1619 - acc: 0.9571 - val_loss: 0.9493 - val_acc: 0.7800\n",
            "Epoch 55/200\n",
            "1/1 [==============================] - 0s 211ms/step - loss: 0.0654 - acc: 0.9929 - val_loss: 0.9417 - val_acc: 0.7880\n",
            "Epoch 56/200\n",
            "1/1 [==============================] - 0s 239ms/step - loss: 0.0570 - acc: 0.9714 - val_loss: 0.9324 - val_acc: 0.7960\n",
            "Epoch 57/200\n",
            "1/1 [==============================] - 0s 221ms/step - loss: 0.0871 - acc: 0.9786 - val_loss: 0.9223 - val_acc: 0.7920\n",
            "Epoch 58/200\n",
            "1/1 [==============================] - 0s 223ms/step - loss: 0.0651 - acc: 0.9786 - val_loss: 0.9203 - val_acc: 0.7980\n",
            "Epoch 59/200\n",
            "1/1 [==============================] - 0s 219ms/step - loss: 0.0926 - acc: 0.9714 - val_loss: 0.9260 - val_acc: 0.8060\n",
            "Epoch 60/200\n",
            "1/1 [==============================] - 0s 220ms/step - loss: 0.0447 - acc: 0.9929 - val_loss: 0.9351 - val_acc: 0.8000\n",
            "Epoch 61/200\n",
            "1/1 [==============================] - 0s 219ms/step - loss: 0.0558 - acc: 0.9929 - val_loss: 0.9491 - val_acc: 0.8000\n",
            "Epoch 62/200\n",
            "1/1 [==============================] - 0s 211ms/step - loss: 0.0622 - acc: 0.9857 - val_loss: 0.9654 - val_acc: 0.7980\n",
            "Epoch 63/200\n",
            "1/1 [==============================] - 0s 239ms/step - loss: 0.0464 - acc: 0.9857 - val_loss: 0.9828 - val_acc: 0.8000\n",
            "Epoch 64/200\n",
            "1/1 [==============================] - 0s 240ms/step - loss: 0.0623 - acc: 0.9857 - val_loss: 0.9886 - val_acc: 0.8000\n",
            "Epoch 65/200\n",
            "1/1 [==============================] - 0s 223ms/step - loss: 0.0432 - acc: 1.0000 - val_loss: 0.9926 - val_acc: 0.8000\n",
            "Epoch 66/200\n",
            "1/1 [==============================] - 0s 230ms/step - loss: 0.0424 - acc: 0.9857 - val_loss: 0.9977 - val_acc: 0.7920\n",
            "Epoch 67/200\n",
            "1/1 [==============================] - 0s 202ms/step - loss: 0.0281 - acc: 1.0000 - val_loss: 1.0036 - val_acc: 0.7860\n",
            "Epoch 68/200\n",
            "1/1 [==============================] - 0s 229ms/step - loss: 0.0411 - acc: 0.9929 - val_loss: 1.0137 - val_acc: 0.7920\n",
            "Epoch 69/200\n",
            "1/1 [==============================] - 0s 231ms/step - loss: 0.0282 - acc: 0.9929 - val_loss: 1.0246 - val_acc: 0.7860\n",
            "Epoch 70/200\n",
            "1/1 [==============================] - 0s 222ms/step - loss: 0.0302 - acc: 0.9929 - val_loss: 1.0375 - val_acc: 0.7840\n",
            "Epoch 71/200\n",
            "1/1 [==============================] - 0s 227ms/step - loss: 0.0774 - acc: 0.9786 - val_loss: 1.0468 - val_acc: 0.7800\n",
            "Epoch 72/200\n",
            "1/1 [==============================] - 0s 218ms/step - loss: 0.0699 - acc: 0.9857 - val_loss: 1.0520 - val_acc: 0.7840\n",
            "Epoch 73/200\n",
            "1/1 [==============================] - 0s 218ms/step - loss: 0.0487 - acc: 0.9857 - val_loss: 1.0581 - val_acc: 0.7860\n",
            "Epoch 74/200\n",
            "1/1 [==============================] - 0s 226ms/step - loss: 0.0195 - acc: 1.0000 - val_loss: 1.0631 - val_acc: 0.7860\n",
            "Epoch 75/200\n",
            "1/1 [==============================] - 0s 226ms/step - loss: 0.0559 - acc: 0.9786 - val_loss: 1.0666 - val_acc: 0.7840\n",
            "Epoch 76/200\n",
            "1/1 [==============================] - 0s 229ms/step - loss: 0.0345 - acc: 0.9857 - val_loss: 1.0702 - val_acc: 0.7820\n",
            "Epoch 77/200\n",
            "1/1 [==============================] - 0s 229ms/step - loss: 0.0914 - acc: 0.9714 - val_loss: 1.0700 - val_acc: 0.7820\n",
            "Epoch 78/200\n",
            "1/1 [==============================] - 0s 243ms/step - loss: 0.0389 - acc: 0.9857 - val_loss: 1.0579 - val_acc: 0.7820\n",
            "Epoch 79/200\n",
            "1/1 [==============================] - 0s 200ms/step - loss: 0.0243 - acc: 0.9929 - val_loss: 1.0447 - val_acc: 0.7840\n",
            "Epoch 80/200\n",
            "1/1 [==============================] - 0s 215ms/step - loss: 0.0534 - acc: 0.9714 - val_loss: 1.0343 - val_acc: 0.7880\n"
          ]
        }
      ]
    },
    {
      "cell_type": "code",
      "source": [
        "sg.utils.plot_history(history)"
      ],
      "metadata": {
        "colab": {
          "base_uri": "https://localhost:8080/",
          "height": 585
        },
        "id": "cXPyV_5ZCJOo",
        "outputId": "c9007ee6-5621-4d53-e6bf-fc8d4b1f00fd"
      },
      "execution_count": 43,
      "outputs": [
        {
          "output_type": "display_data",
          "data": {
            "text/plain": [
              "<Figure size 504x576 with 2 Axes>"
            ],
            "image/png": "[encoded data removed]"
          },
          "metadata": {
            "needs_background": "light"
          }
        }
      ]
    },
    {
      "cell_type": "code",
      "source": [
        "test_gen = generator.flow(test_subjects.index, test_targets)\n",
        "\n",
        "test_metrics = model.evaluate(test_gen)\n",
        "print(\"\\nTest Set Metrics:\")\n",
        "for name, val in zip(model.metrics_names, test_metrics):\n",
        "    print(\"\\t{}: {:0.4f}\".format(name, val))"
      ],
      "metadata": {
        "id": "suSak82oCclm",
        "colab": {
          "base_uri": "https://localhost:8080/"
        },
        "outputId": "966c5a30-bdf3-47b8-80ab-a701c7bead5e"
      },
      "execution_count": 44,
      "outputs": [
        {
          "output_type": "stream",
          "name": "stdout",
          "text": [
            "1/1 [==============================] - 0s 115ms/step - loss: 0.6412 - acc: 0.8162\n",
            "\n",
            "Test Set Metrics:\n",
            "\tloss: 0.6412\n",
            "\tacc: 0.8162\n"
          ]
        }
      ]
    },
    {
      "cell_type": "markdown",
      "source": [
        "###making prediction"
      ],
      "metadata": {
        "id": "aw6UCU7sHzRP"
      }
    },
    {
      "cell_type": "code",
      "source": [
        "all_nodes = node_subjects.index\n",
        "all_gen = generator.flow(all_nodes)\n",
        "all_predictions = model.predict(all_gen)"
      ],
      "metadata": {
        "id": "kJgt30ORHyjI"
      },
      "execution_count": 46,
      "outputs": []
    },
    {
      "cell_type": "code",
      "source": [
        "node_predictions = target_encoding.inverse_transform(all_predictions.squeeze())"
      ],
      "metadata": {
        "id": "G489CbxnH3d9"
      },
      "execution_count": 47,
      "outputs": []
    },
    {
      "cell_type": "code",
      "source": [
        "df = pd.DataFrame({\"Predicted\": node_predictions, \"True\": node_subjects})\n",
        "df.head(20)"
      ],
      "metadata": {
        "colab": {
          "base_uri": "https://localhost:8080/",
          "height": 677
        },
        "id": "hiuIb7TcH7EP",
        "outputId": "c4a8e34f-3741-41b8-c206-ce3313bc55cf"
      },
      "execution_count": 48,
      "outputs": [
        {
          "output_type": "execute_result",
          "data": {
            "text/plain": [
              "                      Predicted                    True\n",
              "31336           Neural_Networks         Neural_Networks\n",
              "1061127           Rule_Learning           Rule_Learning\n",
              "1106406  Reinforcement_Learning  Reinforcement_Learning\n",
              "13195    Reinforcement_Learning  Reinforcement_Learning\n",
              "37879     Probabilistic_Methods   Probabilistic_Methods\n",
              "1126012   Probabilistic_Methods   Probabilistic_Methods\n",
              "1107140                  Theory                  Theory\n",
              "1102850         Neural_Networks         Neural_Networks\n",
              "31349           Neural_Networks         Neural_Networks\n",
              "1106418                  Theory                  Theory\n",
              "1123188         Neural_Networks         Neural_Networks\n",
              "1128990  Reinforcement_Learning      Genetic_Algorithms\n",
              "109323    Probabilistic_Methods   Probabilistic_Methods\n",
              "217139                   Theory              Case_Based\n",
              "31353           Neural_Networks         Neural_Networks\n",
              "32083           Neural_Networks         Neural_Networks\n",
              "1126029  Reinforcement_Learning  Reinforcement_Learning\n",
              "1118017         Neural_Networks         Neural_Networks\n",
              "49482           Neural_Networks         Neural_Networks\n",
              "753265          Neural_Networks         Neural_Networks"
            ],
            "text/html": [
              "\n",
              "  <div id=\"df-44caf2dd-5550-44f0-bd87-dedca8ed3161\">\n",
              "    <div class=\"colab-df-container\">\n",
              "      <div>\n",
              "<style scoped>\n",
              "    .dataframe tbody tr th:only-of-type {\n",
              "        vertical-align: middle;\n",
              "    }\n",
              "\n",
              "    .dataframe tbody tr th {\n",
              "        vertical-align: top;\n",
              "    }\n",
              "\n",
              "    .dataframe thead th {\n",
              "        text-align: right;\n",
              "    }\n",
              "</style>\n",
              "<table border=\"1\" class=\"dataframe\">\n",
              "  <thead>\n",
              "    <tr style=\"text-align: right;\">\n",
              "      <th></th>\n",
              "      <th>Predicted</th>\n",
              "      <th>True</th>\n",
              "    </tr>\n",
              "  </thead>\n",
              "  <tbody>\n",
              "    <tr>\n",
              "      <th>31336</th>\n",
              "      <td>Neural_Networks</td>\n",
              "      <td>Neural_Networks</td>\n",
              "    </tr>\n",
              "    <tr>\n",
              "      <th>1061127</th>\n",
              "      <td>Rule_Learning</td>\n",
              "      <td>Rule_Learning</td>\n",
              "    </tr>\n",
              "    <tr>\n",
              "      <th>1106406</th>\n",
              "      <td>Reinforcement_Learning</td>\n",
              "      <td>Reinforcement_Learning</td>\n",
              "    </tr>\n",
              "    <tr>\n",
              "      <th>13195</th>\n",
              "      <td>Reinforcement_Learning</td>\n",
              "      <td>Reinforcement_Learning</td>\n",
              "    </tr>\n",
              "    <tr>\n",
              "      <th>37879</th>\n",
              "      <td>Probabilistic_Methods</td>\n",
              "      <td>Probabilistic_Methods</td>\n",
              "    </tr>\n",
              "    <tr>\n",
              "      <th>1126012</th>\n",
              "      <td>Probabilistic_Methods</td>\n",
              "      <td>Probabilistic_Methods</td>\n",
              "    </tr>\n",
              "    <tr>\n",
              "      <th>1107140</th>\n",
              "      <td>Theory</td>\n",
              "      <td>Theory</td>\n",
              "    </tr>\n",
              "    <tr>\n",
              "      <th>1102850</th>\n",
              "      <td>Neural_Networks</td>\n",
              "      <td>Neural_Networks</td>\n",
              "    </tr>\n",
              "    <tr>\n",
              "      <th>31349</th>\n",
              "      <td>Neural_Networks</td>\n",
              "      <td>Neural_Networks</td>\n",
              "    </tr>\n",
              "    <tr>\n",
              "      <th>1106418</th>\n",
              "      <td>Theory</td>\n",
              "      <td>Theory</td>\n",
              "    </tr>\n",
              "    <tr>\n",
              "      <th>1123188</th>\n",
              "      <td>Neural_Networks</td>\n",
              "      <td>Neural_Networks</td>\n",
              "    </tr>\n",
              "    <tr>\n",
              "      <th>1128990</th>\n",
              "      <td>Reinforcement_Learning</td>\n",
              "      <td>Genetic_Algorithms</td>\n",
              "    </tr>\n",
              "    <tr>\n",
              "      <th>109323</th>\n",
              "      <td>Probabilistic_Methods</td>\n",
              "      <td>Probabilistic_Methods</td>\n",
              "    </tr>\n",
              "    <tr>\n",
              "      <th>217139</th>\n",
              "      <td>Theory</td>\n",
              "      <td>Case_Based</td>\n",
              "    </tr>\n",
              "    <tr>\n",
              "      <th>31353</th>\n",
              "      <td>Neural_Networks</td>\n",
              "      <td>Neural_Networks</td>\n",
              "    </tr>\n",
              "    <tr>\n",
              "      <th>32083</th>\n",
              "      <td>Neural_Networks</td>\n",
              "      <td>Neural_Networks</td>\n",
              "    </tr>\n",
              "    <tr>\n",
              "      <th>1126029</th>\n",
              "      <td>Reinforcement_Learning</td>\n",
              "      <td>Reinforcement_Learning</td>\n",
              "    </tr>\n",
              "    <tr>\n",
              "      <th>1118017</th>\n",
              "      <td>Neural_Networks</td>\n",
              "      <td>Neural_Networks</td>\n",
              "    </tr>\n",
              "    <tr>\n",
              "      <th>49482</th>\n",
              "      <td>Neural_Networks</td>\n",
              "      <td>Neural_Networks</td>\n",
              "    </tr>\n",
              "    <tr>\n",
              "      <th>753265</th>\n",
              "      <td>Neural_Networks</td>\n",
              "      <td>Neural_Networks</td>\n",
              "    </tr>\n",
              "  </tbody>\n",
              "</table>\n",
              "</div>\n",
              "      <button class=\"colab-df-convert\" onclick=\"convertToInteractive('df-44caf2dd-5550-44f0-bd87-dedca8ed3161')\"\n",
              "              title=\"Convert this dataframe to an interactive table.\"\n",
              "              style=\"display:none;\">\n",
              "        \n",
              "  <svg xmlns=\"http://www.w3.org/2000/svg\" height=\"24px\"viewBox=\"0 0 24 24\"\n",
              "       width=\"24px\">\n",
              "    <path d=\"M0 0h24v24H0V0z\" fill=\"none\"/>\n",
              "    <path d=\"M18.56 5.44l.94 2.06.94-2.06 2.06-.94-2.06-.94-.94-2.06-.94 2.06-2.06.94zm-11 1L8.5 8.5l.94-2.06 2.06-.94-2.06-.94L8.5 2.5l-.94 2.06-2.06.94zm10 10l.94 2.06.94-2.06 2.06-.94-2.06-.94-.94-2.06-.94 2.06-2.06.94z\"/><path d=\"M17.41 7.96l-1.37-1.37c-.4-.4-.92-.59-1.43-.59-.52 0-1.04.2-1.43.59L10.3 9.45l-7.72 7.72c-.78.78-.78 2.05 0 2.83L4 21.41c.39.39.9.59 1.41.59.51 0 1.02-.2 1.41-.59l7.78-7.78 2.81-2.81c.8-.78.8-2.07 0-2.86zM5.41 20L4 18.59l7.72-7.72 1.47 1.35L5.41 20z\"/>\n",
              "  </svg>\n",
              "      </button>\n",
              "      \n",
              "  <style>\n",
              "    .colab-df-container {\n",
              "      display:flex;\n",
              "      flex-wrap:wrap;\n",
              "      gap: 12px;\n",
              "    }\n",
              "\n",
              "    .colab-df-convert {\n",
              "      background-color: #E8F0FE;\n",
              "      border: none;\n",
              "      border-radius: 50%;\n",
              "      cursor: pointer;\n",
              "      display: none;\n",
              "      fill: #1967D2;\n",
              "      height: 32px;\n",
              "      padding: 0 0 0 0;\n",
              "      width: 32px;\n",
              "    }\n",
              "\n",
              "    .colab-df-convert:hover {\n",
              "      background-color: #E2EBFA;\n",
              "      box-shadow: 0px 1px 2px rgba(60, 64, 67, 0.3), 0px 1px 3px 1px rgba(60, 64, 67, 0.15);\n",
              "      fill: #174EA6;\n",
              "    }\n",
              "\n",
              "    [theme=dark] .colab-df-convert {\n",
              "      background-color: #3B4455;\n",
              "      fill: #D2E3FC;\n",
              "    }\n",
              "\n",
              "    [theme=dark] .colab-df-convert:hover {\n",
              "      background-color: #434B5C;\n",
              "      box-shadow: 0px 1px 3px 1px rgba(0, 0, 0, 0.15);\n",
              "      filter: drop-shadow(0px 1px 2px rgba(0, 0, 0, 0.3));\n",
              "      fill: #FFFFFF;\n",
              "    }\n",
              "  </style>\n",
              "\n",
              "      <script>\n",
              "        const buttonEl =\n",
              "          document.querySelector('#df-44caf2dd-5550-44f0-bd87-dedca8ed3161 button.colab-df-convert');\n",
              "        buttonEl.style.display =\n",
              "          google.colab.kernel.accessAllowed ? 'block' : 'none';\n",
              "\n",
              "        async function convertToInteractive(key) {\n",
              "          const element = document.querySelector('#df-44caf2dd-5550-44f0-bd87-dedca8ed3161');\n",
              "          const dataTable =\n",
              "            await google.colab.kernel.invokeFunction('convertToInteractive',\n",
              "                                                     [key], {});\n",
              "          if (!dataTable) return;\n",
              "\n",
              "          const docLinkHtml = 'Like what you see? Visit the ' +\n",
              "            '<a target=\"_blank\" href=https://colab.research.google.com/notebooks/data_table.ipynb>data table notebook</a>'\n",
              "            + ' to learn more about interactive tables.';\n",
              "          element.innerHTML = '';\n",
              "          dataTable['output_type'] = 'display_data';\n",
              "          await google.colab.output.renderOutput(dataTable, element);\n",
              "          const docLink = document.createElement('div');\n",
              "          docLink.innerHTML = docLinkHtml;\n",
              "          element.appendChild(docLink);\n",
              "        }\n",
              "      </script>\n",
              "    </div>\n",
              "  </div>\n",
              "  "
            ]
          },
          "metadata": {},
          "execution_count": 48
        }
      ]
    },
    {
      "cell_type": "markdown",
      "source": [
        "###Node Embeddings"
      ],
      "metadata": {
        "id": "KExcR9luH-wU"
      }
    },
    {
      "cell_type": "code",
      "source": [
        "embedding_model = Model(inputs=x_inp, outputs=x_out)\n",
        "\n",
        "emb = embedding_model.predict(all_gen)\n",
        "emb.shape"
      ],
      "metadata": {
        "id": "clCXKw9GCgD2",
        "colab": {
          "base_uri": "https://localhost:8080/"
        },
        "outputId": "49c47305-77e2-481b-ff51-0413f7c00ac4"
      },
      "execution_count": 49,
      "outputs": [
        {
          "output_type": "execute_result",
          "data": {
            "text/plain": [
              "(1, 2708, 16)"
            ]
          },
          "metadata": {},
          "execution_count": 49
        }
      ]
    },
    {
      "cell_type": "markdown",
      "source": [
        "**There are many tools for this dimensionality reduction task, many of which are offered by scikit-learn. Two of the more common ones are principal component analysis (PCA) (which is linear) and t-distributed Stochastic Neighbor Embedding (t-SNE or TSNE) (non-linear). t-SNE is slower but typically gives nicer results for plotting.**"
      ],
      "metadata": {
        "id": "_blndTdcIeFM"
      }
    },
    {
      "cell_type": "code",
      "source": [
        "from sklearn.decomposition import PCA\n",
        "from sklearn.manifold import TSNE\n",
        "\n",
        "transform = TSNE  # or PCA"
      ],
      "metadata": {
        "id": "wteUuRTMHkLQ"
      },
      "execution_count": 50,
      "outputs": []
    },
    {
      "cell_type": "code",
      "source": [
        "X = emb.squeeze(0)\n",
        "X.shape"
      ],
      "metadata": {
        "colab": {
          "base_uri": "https://localhost:8080/"
        },
        "id": "6MfJw410IioW",
        "outputId": "29c9dc8a-12cf-4db5-ed23-ac967da02422"
      },
      "execution_count": 51,
      "outputs": [
        {
          "output_type": "execute_result",
          "data": {
            "text/plain": [
              "(2708, 16)"
            ]
          },
          "metadata": {},
          "execution_count": 51
        }
      ]
    },
    {
      "cell_type": "code",
      "source": [
        "trans = transform(n_components=2)\n",
        "X_reduced = trans.fit_transform(X)\n",
        "X_reduced.shape"
      ],
      "metadata": {
        "colab": {
          "base_uri": "https://localhost:8080/"
        },
        "id": "r6Td_vW_IlrY",
        "outputId": "6838fc65-fd33-4275-bca5-deb28bc55db5"
      },
      "execution_count": 52,
      "outputs": [
        {
          "output_type": "stream",
          "name": "stderr",
          "text": [
            "/usr/local/lib/python3.7/dist-packages/sklearn/manifold/_t_sne.py:783: FutureWarning: The default initialization in TSNE will change from 'random' to 'pca' in 1.2.\n",
            "  FutureWarning,\n",
            "/usr/local/lib/python3.7/dist-packages/sklearn/manifold/_t_sne.py:793: FutureWarning: The default learning rate in TSNE will change from 200.0 to 'auto' in 1.2.\n",
            "  FutureWarning,\n"
          ]
        },
        {
          "output_type": "execute_result",
          "data": {
            "text/plain": [
              "(2708, 2)"
            ]
          },
          "metadata": {},
          "execution_count": 52
        }
      ]
    },
    {
      "cell_type": "code",
      "source": [
        "fig, ax = plt.subplots(figsize=(7, 7))\n",
        "ax.scatter(X_reduced[:, 0],\n",
        "           X_reduced[:, 1],\n",
        "           c=node_subjects.astype(\"category\").cat.codes,\n",
        "           cmap=\"jet\",\n",
        "           alpha=0.7)\n",
        "ax.set(aspect=\"equal\",\n",
        "       xlabel=\"$X_1$\",\n",
        "       ylabel=\"$X_2$\",\n",
        "       title=f\"{transform.__name__} visualization of GCN embeddings for cora dataset\")"
      ],
      "metadata": {
        "colab": {
          "base_uri": "https://localhost:8080/",
          "height": 531
        },
        "id": "2OaAh5BGIq5g",
        "outputId": "d732b81a-f7b8-4e8b-c17e-0028d7d52e16"
      },
      "execution_count": 53,
      "outputs": [
        {
          "output_type": "execute_result",
          "data": {
            "text/plain": [
              "[Text(0, 0.5, '$X_2$'),\n",
              " Text(0.5, 0, '$X_1$'),\n",
              " Text(0.5, 1.0, 'TSNE visualization of GCN embeddings for cora dataset'),\n",
              " None]"
            ]
          },
          "metadata": {},
          "execution_count": 53
        },
        {
          "output_type": "display_data",
          "data": {
            "text/plain": [
              "<Figure size 504x504 with 1 Axes>"
            ],
            "image/png": "[encoded data removed]"
          },
          "metadata": {
            "needs_background": "light"
          }
        }
      ]
    }
  ]
}